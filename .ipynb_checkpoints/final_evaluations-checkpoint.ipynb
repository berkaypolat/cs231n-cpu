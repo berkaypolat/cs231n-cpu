{
 "cells": [
  {
   "cell_type": "markdown",
   "metadata": {},
   "source": [
    "### This notebook serves as extracting the final evaluation metrics for the trained models (both with pretrained weights nad unpretrained weights"
   ]
  },
  {
   "cell_type": "code",
   "execution_count": 12,
   "metadata": {},
   "outputs": [
    {
     "name": "stdout",
     "output_type": "stream",
     "text": [
      "The autoreload extension is already loaded. To reload it, use:\n",
      "  %reload_ext autoreload\n"
     ]
    }
   ],
   "source": [
    "import numpy as np\n",
    "import torch\n",
    "import torch.nn as nn\n",
    "import torch.backends.cudnn as cudnn\n",
    "import torchvision\n",
    "from torchvision import transforms, datasets\n",
    "import torch.optim as optim\n",
    "import torch.nn.functional as tfunc\n",
    "from torch.utils.data import Dataset\n",
    "from torch.utils.data.dataset import random_split\n",
    "from torch.utils.data import DataLoader\n",
    "from torch.autograd import Variable\n",
    "from torch.optim.lr_scheduler import ReduceLROnPlateau\n",
    "from PIL import Image\n",
    "import torch.nn.functional as func\n",
    "from util_datasets import GaussianNoise, UniformNoise\n",
    "import csv\n",
    "from tqdm import tqdm\n",
    "import seaborn as sns\n",
    "import matplotlib.pyplot as plt\n",
    "from sklearn.metrics.ranking import roc_auc_score\n",
    "import sklearn.metrics as metrics\n",
    "import random\n",
    "\n",
    "%load_ext autoreload\n",
    "\n",
    "%autoreload 2\n",
    "\n",
    "\n",
    "use_cuda = torch.cuda.is_available()\n",
    "torch.manual_seed(123)\n",
    "device = torch.device(\"cuda\" if use_cuda else \"cpu\")\n",
    "\n",
    "\n",
    "class_names = ['No Finding', 'Enlarged Cardiomediastinum', 'Cardiomegaly', 'Lung Opacity', \n",
    "               'Lung Lesion', 'Edema', 'Consolidation', 'Pneumonia', 'Atelectasis', 'Pneumothorax', \n",
    "               'Pleural Effusion', 'Pleural Other', 'Fracture', 'Support Devices']\n",
    "\n",
    "imgtransResize = (320, 320)\n",
    "imgtransCrop = 224\n",
    "\n",
    "from trainer import CheXpertTrainer \n",
    "from chexpertClass import CheXpertData\n",
    "from denseNet121 import DenseNet121\n",
    "from utils import *\n",
    "# from ood_evaluate import *"
   ]
  },
  {
   "cell_type": "code",
   "execution_count": 8,
   "metadata": {},
   "outputs": [],
   "source": [
    "####################\n",
    "# These utility functions are burrowed from utils.py in GPU VM instance\n",
    "####################\n",
    "\n",
    "def load_checkpoint_v2(checkpoint_path, model, optimizer, use_cuda):\n",
    "    if use_cuda:\n",
    "        state = torch.load(checkpoint_path)\n",
    "    else:\n",
    "        state = torch.load(checkpoint_path, map_location='cpu')\n",
    "   \n",
    "    model_state = state['state_dict']\n",
    "    optim_state = state['optimizer']\n",
    "    train_loss = state['train_losses']\n",
    "    eval_loss = state['eval_losses']\n",
    "    auroc_scores = state['aurocResults']\n",
    "    labels = state['labels']\n",
    "    scores = state['predictions']\n",
    "    model.load_state_dict(model_state)\n",
    "    optimizer.load_state_dict(optim_state)\n",
    "    \n",
    "    print('model loaded from %s' % checkpoint_path)\n",
    "    \n",
    "    return train_loss, eval_loss, labels, scores\n",
    "\n",
    "def evaluate_ood(data_loader, mode, model, device):\n",
    "    model.eval()\n",
    "    outPred = []\n",
    "    outGround = []\n",
    "    outConf = []\n",
    "    bxent = nn.BCELoss(reduction = 'mean')\n",
    "    \n",
    "    progress_bar = tqdm(data_loader)\n",
    "    \n",
    "    for i, (images,labels) in enumerate(progress_bar):\n",
    "        \n",
    "        if type(labels) == list:\n",
    "            #print(\"Chestnet being evaluated...\")\n",
    "            labels = torch.stack(labels).float().transpose(0,1).to(device)\n",
    "        #else:\n",
    "            #print(\"NIH being evaluated...\")\n",
    "\n",
    "\n",
    "        bs, c, h, w = images.size()\n",
    "        varInput = images.view(-1, c, h, w)\n",
    "        \n",
    "        outGround.append(labels.cpu().numpy())\n",
    "\n",
    "        if mode == 'confidence':\n",
    "            with torch.no_grad():\n",
    "                preds, confidence = model(varInput)\n",
    "                confidence = torch.sigmoid(confidence)\n",
    "                confidence = confidence.data.cpu().numpy()\n",
    "                outPred.append(preds.data.cpu().numpy())\n",
    "                outConf.append(confidence)\n",
    "\n",
    "        elif mode == 'confidence_scaling':\n",
    "            epsilon = 0.001  ##value needs to be determined (noise magnitude) \n",
    "\n",
    "            model.zero_grad()\n",
    "            varInput.requires_grad_()\n",
    "            \n",
    "            _,confidence = model(varInput)\n",
    "            confidence = torch.sigmoid(confidence)\n",
    "            loss = torch.mean(-torch.log(confidence))\n",
    "            loss.backward()\n",
    "\n",
    "            varInput = varInput - epsilon * torch.sign(varInput.grad)\n",
    "\n",
    "            preds,confidence = model(varInput)\n",
    "            confidence = torch.sigmoid(confidence)\n",
    "            confidence = confidence.data.cpu().numpy()\n",
    "            outPred.append(preds.data.cpu().numpy())\n",
    "            outConf.append(confidence)\n",
    "\n",
    "\n",
    "        elif mode == 'baseline':\n",
    "            with torch.no_grad():\n",
    "                pred, _ = model(varInput)\n",
    "                pred = pred.cpu().numpy()\n",
    "                outPred.append(pred)\n",
    "\n",
    "        elif mode == 'odin':\n",
    "            T = 1000  #this hyperparameter can also be experimeted\n",
    "            epsilon = 0.001\n",
    "\n",
    "            model.zero_grad()\n",
    "            pred,_ = model(varInput)\n",
    "            pred /= T\n",
    "            loss = bxent(pred, labels)\n",
    "            loss.backward()\n",
    "\n",
    "            varInput = varInput - epsilon * torch.sign(varInput.grad)\n",
    "            pred,_ = model(varInput)\n",
    "\n",
    "            #might need to take Sigmoid layer out from the model class for ODIN\n",
    "\n",
    "            pred = pred.data.cpu().numpy()\n",
    "            outPred.append(pred)\n",
    "            \n",
    "            \n",
    "    outPred = np.concatenate(outPred)\n",
    "    outGround = np.concatenate(outGround)\n",
    "    outConf = np.concatenate(outConf)\n",
    "    return outPred, outGround, outConf"
   ]
  },
  {
   "cell_type": "code",
   "execution_count": 3,
   "metadata": {},
   "outputs": [
    {
     "name": "stdout",
     "output_type": "stream",
     "text": [
      "Train set:  223414\n",
      "Valid set:  234\n",
      "New train set:  221648\n",
      "New valid set:  1000\n",
      "New test set:  1000\n",
      "NIH train set:  4606\n",
      "NIH valid set:  1000\n"
     ]
    }
   ],
   "source": [
    "#TRANSFORM DATA SEQUENCE\n",
    "normalize = transforms.Normalize([0.485, 0.456, 0.406], [0.229, 0.224, 0.225])\n",
    "transformList = []\n",
    "#transformList.append(transforms.Resize(imgtransCrop))\n",
    "transformList.append(transforms.RandomResizedCrop(imgtransCrop))\n",
    "transformList.append(transforms.RandomHorizontalFlip())\n",
    "transformList.append(transforms.ToTensor())\n",
    "transformList.append(normalize)      \n",
    "transformSequence=transforms.Compose(transformList)\n",
    "\n",
    "#CheXpert dataset loading\n",
    "chex_datasetValid = CheXpertData('datasets/chexpert-small/CheXpert-v1.0-small/valid.csv',transformSequence, preload = True, policy=\"ones\")\n",
    "chex_datasetTrain = CheXpertData('datasets/chexpert-small/CheXpert-v1.0-small/train.csv',transformSequence, policy=\"ones\")\n",
    "print(\"Train set: \", len(chex_datasetTrain))\n",
    "print(\"Valid set: \", len(chex_datasetValid))\n",
    "datasetValid, datasetTrain = random_split(chex_datasetTrain, [766, len(chex_datasetTrain) - 766])\n",
    "chex_test, chex_train = random_split(datasetTrain, [1000, len(datasetTrain) - 1000])\n",
    "\n",
    "#split datasets into train,valid,test\n",
    "chex_valid = torch.utils.data.ConcatDataset([chex_datasetValid, datasetValid])\n",
    "print(\"New train set: \", len(chex_train))\n",
    "print(\"New valid set: \", len(chex_valid))\n",
    "print(\"New test set: \", len(chex_test))\n",
    "dataLoaderTrain = DataLoader(dataset=chex_train, batch_size=16, shuffle=True,  num_workers=1, pin_memory=True)\n",
    "dataLoaderValid = DataLoader(dataset=chex_valid, batch_size=16, shuffle=False,  num_workers=1, pin_memory=True)\n",
    "dataLoaderTest = DataLoader(dataset=chex_test, batch_size=16, shuffle=False,  num_workers=0, pin_memory=True)\n",
    "\n",
    "#NIH dataset loading\n",
    "nih_dataset = datasets.ImageFolder(root='datasets/nih-small/small', transform = transformSequence)\n",
    "nih_test, nih_train = random_split(nih_dataset, [1000, len(nih_dataset) - 1000])\n",
    "print(\"NIH train set: \", len(nih_train))\n",
    "print(\"NIH valid set: \", len(nih_test))\n",
    "dataLoaderNIH = DataLoader(dataset=nih_test, batch_size=16, shuffle=False,  num_workers=0, pin_memory=True)"
   ]
  },
  {
   "cell_type": "markdown",
   "metadata": {},
   "source": [
    "#### Evaluation for the model with pretrained weights"
   ]
  },
  {
   "cell_type": "code",
   "execution_count": 4,
   "metadata": {},
   "outputs": [
    {
     "name": "stdout",
     "output_type": "stream",
     "text": [
      "model loaded from checkpoints/epoch3.pth.tar\n"
     ]
    }
   ],
   "source": [
    "model = DenseNet121(len(class_names)).to(device)\n",
    "model = torch.nn.DataParallel(model).to(device)\n",
    "optimizer = optim.Adam(model.parameters(), lr=0.0001, betas=(0.9, 0.999), eps=1e-08, weight_decay=1e-5)\n",
    "checkpoint_path1 = 'checkpoints/epoch1.pth.tar'\n",
    "checkpoint_path2 = 'checkpoints/epoch2.pth.tar'\n",
    "checkpoint_path3 = 'checkpoints/epoch3.pth.tar'\n",
    "train_v1_loss, eval_v1_loss, labels_v1, preds_v1 = load_checkpoint_v2(checkpoint_path3, model, optimizer, use_cuda)"
   ]
  },
  {
   "cell_type": "code",
   "execution_count": 9,
   "metadata": {},
   "outputs": [
    {
     "name": "stderr",
     "output_type": "stream",
     "text": [
      "100%|██████████| 63/63 [46:05<00:00, 37.65s/it]\n",
      "100%|██████████| 63/63 [46:10<00:00, 37.47s/it]\n"
     ]
    }
   ],
   "source": [
    "ind_scores, ind_gt, ind_conf = evaluate_ood(dataLoaderTest, 'confidence', model, device)\n",
    "ood_scores, _, ood_conf = evaluate_ood(dataLoaderNIH, 'confidence', model, device)\n",
    "\n",
    "ood_gt = np.zeros((ood_scores.shape[0], ood_scores.shape[1]))\n",
    "labels = np.concatenate([ind_gt, ood_gt])\n",
    "scores = np.concatenate([ind_scores, ood_scores])\n",
    "confidences = np.concatenate([ind_conf,ood_conf])\n",
    "ind_conf_labels = np.ones(ind_scores.shape[0])\n",
    "ood_conf_labels = np.zeros(ood_scores.shape[0])\n",
    "conf_labels = np.concatenate([ind_conf_labels,ood_conf_labels])"
   ]
  },
  {
   "cell_type": "code",
   "execution_count": 13,
   "metadata": {},
   "outputs": [
    {
     "name": "stdout",
     "output_type": "stream",
     "text": [
      "\n",
      "Method: confidence\n",
      "TPR75 (lower is better):  0.9347499999999878\n",
      "Detection error (lower is better):  0.5\n",
      "Best threshold: 0.6241537928581238\n",
      "AUROC (higher is better):  0.274096\n",
      "AUPR_IN (higher is better):  0.3662906445791707\n",
      "AUPR_OUT (higher is better):  0.3681440388854611\n"
     ]
    },
    {
     "data": {
      "image/png": "[encoded data removed]",
      "text/plain": [
       "<Figure size 432x288 with 1 Axes>"
      ]
     },
     "metadata": {},
     "output_type": "display_data"
    }
   ],
   "source": [
    "fpr = tpr76(ind_conf, ood_conf)\n",
    "detection_error, best_delta = detection(ind_conf, ood_conf)\n",
    "auroc = metrics.roc_auc_score(conf_labels, confidences)\n",
    "aupr_in = metrics.average_precision_score(conf_labels, confidences)\n",
    "aupr_out = metrics.average_precision_score(-1 * conf_labels + 1, 1 - confidences)\n",
    "\n",
    "print(\"\")\n",
    "print(\"Method: confidence\")\n",
    "print(\"TPR75 (lower is better): \", fpr)\n",
    "print(\"Detection error (lower is better): \", detection_error)\n",
    "print(\"Best threshold:\", best_delta)\n",
    "print(\"AUROC (higher is better): \", auroc)\n",
    "print(\"AUPR_IN (higher is better): \", aupr_in)\n",
    "print(\"AUPR_OUT (higher is better): \", aupr_out)\n",
    "        \n",
    "ranges = (np.min(confidences), np.max(confidences))\n",
    "sns.distplot(ind_conf.ravel(), hist_kws={'range': ranges}, kde=False, bins=50, norm_hist=True, label='In-distribution')\n",
    "sns.distplot(ood_conf.ravel(), hist_kws={'range': ranges}, kde=False, bins=50, norm_hist=True, label='Out-of-distribution')\n",
    "plt.xlabel('Total Confidence Distribution')\n",
    "plt.ylabel('Density')\n",
    "plt.legend()\n",
    "plt.show()"
   ]
  },
  {
   "cell_type": "code",
   "execution_count": null,
   "metadata": {},
   "outputs": [],
   "source": []
  }
 ],
 "metadata": {
  "kernelspec": {
   "display_name": "Python 3",
   "language": "python",
   "name": "python3"
  },
  "language_info": {
   "codemirror_mode": {
    "name": "ipython",
    "version": 3
   },
   "file_extension": ".py",
   "mimetype": "text/x-python",
   "name": "python",
   "nbconvert_exporter": "python",
   "pygments_lexer": "ipython3",
   "version": "3.7.1"
  }
 },
 "nbformat": 4,
 "nbformat_minor": 2
}
